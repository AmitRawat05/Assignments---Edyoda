{
 "cells": [
  {
   "cell_type": "markdown",
   "id": "0d379aca",
   "metadata": {},
   "source": [
    "##  Write a Python function to sum all the numbers in a list.\n",
    "\n",
    "\n",
    "\n",
    "Sample List : (8, 2, 3, 0, 7)\n",
    "\n",
    "Expected Output : 20"
   ]
  },
  {
   "cell_type": "code",
   "execution_count": 63,
   "id": "c4abd266",
   "metadata": {},
   "outputs": [],
   "source": [
    "def sum(numb):\n",
    "    x=0\n",
    "    for i in numb:\n",
    "        x+=i\n",
    "    return x"
   ]
  },
  {
   "cell_type": "code",
   "execution_count": 64,
   "id": "f06382cf",
   "metadata": {},
   "outputs": [
    {
     "name": "stdout",
     "output_type": "stream",
     "text": [
      "Enter the number of elements you want in your list : 4\n",
      "Enter all elements one by one int the list:\n",
      "12\n",
      "3\n",
      "15\n",
      "10\n"
     ]
    }
   ],
   "source": [
    "l = []\n",
    "n = int(input(\"Enter the number of elements you want in your list : \"))\n",
    "print('Enter all elements one by one int the list:')\n",
    "for i in range(0, n):\n",
    "    item = int(input())\n",
    "    l.append(item)"
   ]
  },
  {
   "cell_type": "code",
   "execution_count": 65,
   "id": "e484d5bb",
   "metadata": {},
   "outputs": [
    {
     "data": {
      "text/plain": [
       "40"
      ]
     },
     "execution_count": 65,
     "metadata": {},
     "output_type": "execute_result"
    }
   ],
   "source": [
    "sum(l)"
   ]
  },
  {
   "cell_type": "markdown",
   "id": "d99c0d55",
   "metadata": {},
   "source": [
    "## Write a Python program to reverse a string.\n",
    "\n",
    "\n",
    "\n",
    "﻿Sample String : \"1234abcd\"\n",
    "\n",
    "Expected Output : \"dcba4321\""
   ]
  },
  {
   "cell_type": "code",
   "execution_count": 72,
   "id": "225c6cf2",
   "metadata": {},
   "outputs": [],
   "source": [
    "def rev(st):\n",
    "    return st[::-1]"
   ]
  },
  {
   "cell_type": "code",
   "execution_count": 74,
   "id": "b79d3e6d",
   "metadata": {},
   "outputs": [
    {
     "name": "stdout",
     "output_type": "stream",
     "text": [
      "Enter the string that you want to reverse : 34567lkjh\n"
     ]
    },
    {
     "data": {
      "text/plain": [
       "'hjkl76543'"
      ]
     },
     "execution_count": 74,
     "metadata": {},
     "output_type": "execute_result"
    }
   ],
   "source": [
    "rev(input('Enter the string that you want to reverse : '))"
   ]
  },
  {
   "cell_type": "markdown",
   "id": "d3ee3393",
   "metadata": {},
   "source": [
    "## Write a Python function that accepts a string and calculate the number of upper case letters and lower case letters.\n",
    "\n",
    "\n",
    "\n",
    "﻿Sample String : 'The quick Brow Fox'\n",
    "\n",
    "Expected Output :\n",
    "\n",
    "No. of Upper case characters : 3\n",
    "\n",
    "No. of Lower case Characters : 12"
   ]
  },
  {
   "cell_type": "code",
   "execution_count": 106,
   "id": "facfe5dd",
   "metadata": {},
   "outputs": [],
   "source": [
    "def up_low(s):\n",
    "    x = 0\n",
    "    y = 0\n",
    "    for i in s:\n",
    "        if i.isupper():\n",
    "            x += 1\n",
    "        if i.islower():\n",
    "            y += 1\n",
    "           \n",
    "    return (print('Total no. of upper case characters : '+str(x)+\"\\n\"+'Total no. of lower case characters : '+str(y)))"
   ]
  },
  {
   "cell_type": "code",
   "execution_count": 107,
   "id": "bd3c286a",
   "metadata": {},
   "outputs": [
    {
     "name": "stdout",
     "output_type": "stream",
     "text": [
      "Enter the string for which you want the count of upper and lower case letters : the quick brwon fox iS Awesome\n",
      "Total no. of upper case characters : 2\n",
      "Total no. of lower case characters : 23\n"
     ]
    }
   ],
   "source": [
    "up_low(input(\"Enter the string for which you want the count of upper and lower case letters : \"))"
   ]
  },
  {
   "cell_type": "code",
   "execution_count": null,
   "id": "a9f17518",
   "metadata": {},
   "outputs": [],
   "source": []
  },
  {
   "cell_type": "code",
   "execution_count": null,
   "id": "82be3843",
   "metadata": {},
   "outputs": [],
   "source": []
  }
 ],
 "metadata": {
  "kernelspec": {
   "display_name": "Python 3",
   "language": "python",
   "name": "python3"
  },
  "language_info": {
   "codemirror_mode": {
    "name": "ipython",
    "version": 3
   },
   "file_extension": ".py",
   "mimetype": "text/x-python",
   "name": "python",
   "nbconvert_exporter": "python",
   "pygments_lexer": "ipython3",
   "version": "3.8.8"
  }
 },
 "nbformat": 4,
 "nbformat_minor": 5
}
