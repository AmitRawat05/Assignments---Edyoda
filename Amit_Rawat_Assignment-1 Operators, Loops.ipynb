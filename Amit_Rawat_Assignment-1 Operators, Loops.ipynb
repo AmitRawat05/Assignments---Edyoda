{
 "cells": [
  {
   "cell_type": "markdown",
   "id": "4e5c9041",
   "metadata": {},
   "source": [
    "## Write a Python program to get the Fibonacci series between 0 to 50\n",
    "\n",
    "\n",
    "\n",
    "Note : The Fibonacci Sequence is the series of numbers :\n",
    "\n",
    "0, 1, 1, 2, 3, 5, 8, 13, 21, ....\n",
    "\n",
    "Every next number is found by adding up the two numbers before it.\n",
    "\n",
    "Expected Output : 1 1 2 3 5 8 13 21 34"
   ]
  },
  {
   "cell_type": "code",
   "execution_count": 38,
   "id": "d4558885",
   "metadata": {},
   "outputs": [
    {
     "name": "stdout",
     "output_type": "stream",
     "text": [
      "1 1 2 3 5 8 13 21 34 "
     ]
    }
   ],
   "source": [
    "f = 0\n",
    "s= 1\n",
    "while (s<50): # here s<50 is used because we have to print Fibo series under 50, you can print upto nth series by giving input.\n",
    "    print(s, end = ' ')\n",
    "    n=f\n",
    "    f=s\n",
    "    s=n+s\n",
    "    \n",
    "    \n",
    "    \n",
    "    "
   ]
  },
  {
   "cell_type": "markdown",
   "id": "604430a4",
   "metadata": {},
   "source": [
    "## Write a Python program that accepts a word from the user and reverse it.\n",
    "\n",
    "\n",
    "Sample Test Case\n",
    "\n",
    "\n",
    "Input : Edyoda\n",
    "\n",
    "output: adoydE"
   ]
  },
  {
   "cell_type": "code",
   "execution_count": 3,
   "id": "e5ed2fee",
   "metadata": {},
   "outputs": [
    {
     "name": "stdout",
     "output_type": "stream",
     "text": [
      "Enter the word that you want to reverse : mango\n",
      "Reversed word : ognam\n"
     ]
    }
   ],
   "source": [
    "word = input('Enter the word that you want to reverse : ')\n",
    "rev_word = word[::-1]\n",
    "print('Reversed word : ' + rev_word)"
   ]
  },
  {
   "cell_type": "markdown",
   "id": "e53c6314",
   "metadata": {},
   "source": [
    "## Write a Python program to count the number of even and odd numbers from a series of numbers.\n",
    "\n"
   ]
  },
  {
   "cell_type": "code",
   "execution_count": 44,
   "id": "640313ba",
   "metadata": {},
   "outputs": [
    {
     "name": "stdout",
     "output_type": "stream",
     "text": [
      "(1, 2, 3, 4, 5, 6, 7, 8, 9)\n",
      "Number of even numbers :  4\n",
      "Number of odd numbers :  5\n"
     ]
    }
   ],
   "source": [
    "numbers = (1, 2, 3, 4, 5, 6, 7, 8, 9)\n",
    "print(numbers)\n",
    "even = 0\n",
    "odd = 0\n",
    "for i in numbers:\n",
    "    if i%2 == 0:\n",
    "        even+= 1\n",
    "    else:\n",
    "        odd+=1\n",
    "print('Number of even numbers : ',even)\n",
    "print('Number of odd numbers : ',odd)"
   ]
  },
  {
   "cell_type": "code",
   "execution_count": null,
   "id": "66840166",
   "metadata": {},
   "outputs": [],
   "source": []
  }
 ],
 "metadata": {
  "kernelspec": {
   "display_name": "Python 3",
   "language": "python",
   "name": "python3"
  },
  "language_info": {
   "codemirror_mode": {
    "name": "ipython",
    "version": 3
   },
   "file_extension": ".py",
   "mimetype": "text/x-python",
   "name": "python",
   "nbconvert_exporter": "python",
   "pygments_lexer": "ipython3",
   "version": "3.8.8"
  }
 },
 "nbformat": 4,
 "nbformat_minor": 5
}
