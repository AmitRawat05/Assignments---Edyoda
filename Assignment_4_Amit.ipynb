{
 "cells": [
  {
   "cell_type": "markdown",
   "id": "7747f2f3",
   "metadata": {},
   "source": [
    "## Write a Python program to create a lambda function that adds 25 to a given number passed in as an argument.\n",
    "\n",
    "\n",
    "\n",
    "sample input: 10\n",
    "\n",
    "sample output: 35"
   ]
  },
  {
   "cell_type": "code",
   "execution_count": 4,
   "id": "bdc895e2",
   "metadata": {},
   "outputs": [
    {
     "name": "stdout",
     "output_type": "stream",
     "text": [
      "Enter your desired number for addition of 25 in it : 10\n"
     ]
    }
   ],
   "source": [
    "numb = int(input(\"Enter your desired number for addition of 25 in it : \"))\n",
    "Addition = lambda numb: numb + 25"
   ]
  },
  {
   "cell_type": "code",
   "execution_count": 5,
   "id": "956aad77",
   "metadata": {},
   "outputs": [
    {
     "data": {
      "text/plain": [
       "35"
      ]
     },
     "execution_count": 5,
     "metadata": {},
     "output_type": "execute_result"
    }
   ],
   "source": [
    "Addition(numb)"
   ]
  },
  {
   "cell_type": "markdown",
   "id": "d3081c43",
   "metadata": {},
   "source": [
    "## Write a Python program to triple all numbers of a given list of integers. Use Python map.\n",
    "\n",
    "\n",
    "sample list: [1, 2, 3, 4, 5, 6, 7]\n",
    "\n",
    "\n",
    "Triple of list numbers:\n",
    "\n",
    "[3, 6, 9, 12, 15, 18, 21]"
   ]
  },
  {
   "cell_type": "code",
   "execution_count": 7,
   "id": "f84826bb",
   "metadata": {},
   "outputs": [
    {
     "name": "stdout",
     "output_type": "stream",
     "text": [
      "Enter the number of elements you want in your list : 7\n",
      "Enter all elements one by one int the list:\n",
      "1\n",
      "2\n",
      "3\n",
      "4\n",
      "5\n",
      "6\n",
      "7\n"
     ]
    }
   ],
   "source": [
    "l = []\n",
    "n = int(input(\"Enter the number of elements you want in your list : \"))\n",
    "print('Enter all elements one by one int the list:')\n",
    "for i in range(0, n):\n",
    "    item = int(input())\n",
    "    l.append(item)"
   ]
  },
  {
   "cell_type": "code",
   "execution_count": 8,
   "id": "628a1e2e",
   "metadata": {},
   "outputs": [
    {
     "data": {
      "text/plain": [
       "[3, 6, 9, 12, 15, 18, 21]"
      ]
     },
     "execution_count": 8,
     "metadata": {},
     "output_type": "execute_result"
    }
   ],
   "source": [
    "list(map(lambda x: x*3, l))"
   ]
  },
  {
   "cell_type": "markdown",
   "id": "8a3560e1",
   "metadata": {},
   "source": [
    "## Write a Python program to square the elements of a list using map() function.\n",
    "\n",
    "\n",
    "\n",
    "Sample List: [4, 5, 2, 9]\n",
    "\n",
    "Square the elements of the list:\n",
    "\n",
    "[16, 25, 4, 81]"
   ]
  },
  {
   "cell_type": "code",
   "execution_count": 10,
   "id": "c98f09a2",
   "metadata": {},
   "outputs": [
    {
     "name": "stdout",
     "output_type": "stream",
     "text": [
      "Enter the number of elements you want in your list : 4\n",
      "Enter all elements one by one int the list:\n",
      "4\n",
      "5\n",
      "2\n",
      "9\n",
      "Sample list is :  [4, 5, 2, 9]\n"
     ]
    }
   ],
   "source": [
    "l = []\n",
    "n = int(input(\"Enter the number of elements you want in your list : \"))\n",
    "print('Enter all elements one by one int the list:')\n",
    "for i in range(0, n):\n",
    "    item = int(input())\n",
    "    l.append(item)\n",
    "print('Sample list is : ', l)"
   ]
  },
  {
   "cell_type": "code",
   "execution_count": 11,
   "id": "0313f42d",
   "metadata": {},
   "outputs": [
    {
     "data": {
      "text/plain": [
       "[16, 25, 4, 81]"
      ]
     },
     "execution_count": 11,
     "metadata": {},
     "output_type": "execute_result"
    }
   ],
   "source": [
    "list(map(lambda x: x**2, l))"
   ]
  },
  {
   "cell_type": "code",
   "execution_count": null,
   "id": "7aac2940",
   "metadata": {},
   "outputs": [],
   "source": []
  }
 ],
 "metadata": {
  "kernelspec": {
   "display_name": "Python 3",
   "language": "python",
   "name": "python3"
  },
  "language_info": {
   "codemirror_mode": {
    "name": "ipython",
    "version": 3
   },
   "file_extension": ".py",
   "mimetype": "text/x-python",
   "name": "python",
   "nbconvert_exporter": "python",
   "pygments_lexer": "ipython3",
   "version": "3.8.8"
  }
 },
 "nbformat": 4,
 "nbformat_minor": 5
}
