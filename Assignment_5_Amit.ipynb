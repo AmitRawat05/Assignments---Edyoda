{
 "cells": [
  {
   "cell_type": "markdown",
   "id": "656efe9a",
   "metadata": {},
   "source": [
    "## Write a Python class to implement pow(x, n)\n",
    "\n",
    "\n",
    "\n",
    "Explanation:\n",
    "\n",
    "Use should be able to find the nth power of the x.(i.e x*x*x*x...n times)\n",
    "\n",
    "You must implement it using Class\n",
    "\n",
    "\n",
    "\n",
    "Sample Input:\n",
    "\n",
    "x: 10\n",
    "\n",
    "n: 2\n",
    "\n",
    "\n",
    "\n",
    "Sample Output:\n",
    "\n",
    "100\n",
    "\n"
   ]
  },
  {
   "cell_type": "code",
   "execution_count": 16,
   "id": "532b1019",
   "metadata": {},
   "outputs": [],
   "source": [
    "class p:\n",
    "    def __init__(self,x,n):\n",
    "        self.x = x\n",
    "        self.n = n\n",
    "        self.outcome = 0\n",
    "        \n",
    "    def nth_p(self):\n",
    "        self.outcome = pow(self.x,self.n)\n",
    "        print(self.outcome)"
   ]
  },
  {
   "cell_type": "code",
   "execution_count": 19,
   "id": "6d9c198e",
   "metadata": {},
   "outputs": [],
   "source": [
    "result = p(5,2)"
   ]
  },
  {
   "cell_type": "code",
   "execution_count": 20,
   "id": "a0a3f429",
   "metadata": {},
   "outputs": [
    {
     "name": "stdout",
     "output_type": "stream",
     "text": [
      "25\n"
     ]
    }
   ],
   "source": [
    "result.nth_p()"
   ]
  },
  {
   "cell_type": "code",
   "execution_count": null,
   "id": "04cc041c",
   "metadata": {},
   "outputs": [],
   "source": []
  }
 ],
 "metadata": {
  "kernelspec": {
   "display_name": "Python 3",
   "language": "python",
   "name": "python3"
  },
  "language_info": {
   "codemirror_mode": {
    "name": "ipython",
    "version": 3
   },
   "file_extension": ".py",
   "mimetype": "text/x-python",
   "name": "python",
   "nbconvert_exporter": "python",
   "pygments_lexer": "ipython3",
   "version": "3.8.8"
  }
 },
 "nbformat": 4,
 "nbformat_minor": 5
}
